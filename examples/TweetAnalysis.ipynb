{
 "cells": [
  {
   "cell_type": "code",
   "execution_count": null,
   "metadata": {
    "collapsed": false
   },
   "outputs": [],
   "source": [
    "import pickle,string,time,enum"
   ]
  },
  {
   "cell_type": "code",
   "execution_count": null,
   "metadata": {
    "collapsed": false
   },
   "outputs": [],
   "source": [
    "import numpy,requests,scipy.sparse,regex\n",
    "import matplotlib.pyplot as plt\n",
    "import matplotlib.pyplot as plt"
   ]
  },
  {
   "cell_type": "markdown",
   "metadata": {},
   "source": [
    "# Data In"
   ]
  },
  {
   "cell_type": "markdown",
   "metadata": {},
   "source": [
    "Reading in Tweepy data, and turning into a dictionary"
   ]
  },
  {
   "cell_type": "code",
   "execution_count": null,
   "metadata": {
    "collapsed": false
   },
   "outputs": [],
   "source": [
    "with open(\"search_output-2016-10-16.bin\",'rb') as tweet_file:\n",
    "    results = []\n",
    "    while not tweet_file.closed:\n",
    "        try: \n",
    "            results += [pickle.load(tweet_file)]\n",
    "        \n",
    "        except EOFError: tweet_file.close()"
   ]
  },
  {
   "cell_type": "markdown",
   "metadata": {},
   "source": [
    "## Word Frequency"
   ]
  },
  {
   "cell_type": "markdown",
   "metadata": {},
   "source": [
    "We need to create the most important dimension - the word count.\n",
    "1. Scrubbing - remove common words that will almost never be interesting, punctuation and web links\n",
    "2. Reducing - removing those words which always occur with other ones\n",
    "3. Sorting - selecting the top 100 words which will be used to create the word count dictionary."
   ]
  },
  {
   "cell_type": "code",
   "execution_count": null,
   "metadata": {
    "collapsed": false
   },
   "outputs": [],
   "source": [
    "headers = results[0]\n",
    "word_results = [result[1] for result in results[1:]]"
   ]
  },
  {
   "cell_type": "markdown",
   "metadata": {},
   "source": [
    "### Scrubbing"
   ]
  },
  {
   "cell_type": "markdown",
   "metadata": {},
   "source": [
    "Removing common words, links and mentions (words beginning `@`).\n",
    "\n",
    "Selecting alpha-numeric words."
   ]
  },
  {
   "cell_type": "code",
   "execution_count": null,
   "metadata": {
    "collapsed": false
   },
   "outputs": [],
   "source": [
    "exclusion_word_list = \"|\".join(map(lambda x:\"(%ss?)\"%x,\n",
    "                                   {\"today\",\"what\",\"where\",\"when\",\"why\",\"about\",\"person\",\"people\",\"man\",\"men\",\"women\",\"link\",\"image\",\"video\",\"pic\",\"picture\",\"gif\", #nouns\n",
    "                                    \"she\",\"i\",\"he\",\"it\",\"their\",\"that\",\"you\",\"we\",\"us\",\"your\",\"our\",\"their\",\"this\",\"his\",\"her\",\"my\",\"mine\",\"who\",\"whom\", #pronouns\n",
    "                                    \"as\",\"from\",\"here\",\"on\",\"in\",\"by\",\"after\",\"up\",\"with\",\"will\",\"at\",\"out\",\"over\",\"before\",\"into\", #prepositions\n",
    "                                    \"could\",\"should\",\"would\",\"are\",\"have\",\"do\",\"has\",\"does\",\"been\",\"be\",\"can\",\"may\", #auxilary verbs\n",
    "                                    \"is\",\"was\",\"will\",\"are\",\"be\",\"to\",\n",
    "                                    \"and\",\"as\",\"than\",\"also\",\"but\",\"how\", #conjunctions\n",
    "                                    \"an\",\"the\",\"a\", #articles\n",
    "                                    \"bye\",\"if\",\"for\",\"of\",\n",
    "                                    \"now\",#adverbs\n",
    "                                    \"says\",\"say\",\"take\",\"get\",\"read\",\"watch\",\"like\", #verbs\n",
    "                                    \"true\",\"new\",\"not\",\"no\",\"more\",\"all\",\"good\",\"better\",\"best\",\"bad\",\"worse\",\"worst\",\"just\",\"more\",\"most\",\"less\",\"least\",\"first\",\"last\", #adjectives\n",
    "                                   })) \n",
    "\n",
    "exclusion_patterns = ['@\\S+','http','[^a-zA-Z\\d\\s:]'] #Patterns #,'^\\W*$'\n",
    "exclusion_patterns += ['^(%s)\\\\b'%exclusion_word_list] # beginning of strings\n",
    "exclusion_patterns += ['\\\\b(%s)$'%exclusion_word_list] # end of strings\n",
    "exclusion_patterns += ['\\\\b(%s)\\\\b'%exclusion_word_list] # mid-strings\n",
    "\n",
    "selection_patterns = [r'\\b(\\w+)\\b'] #only selecting words"
   ]
  },
  {
   "cell_type": "code",
   "execution_count": null,
   "metadata": {
    "collapsed": false,
    "scrolled": true
   },
   "outputs": [],
   "source": [
    "word_dict = {}\n",
    "result_bags = [] #sets of words in the same tweet - this is used below when looking for co-occuring words\n",
    "\n",
    "for i,r in enumerate(word_results):\n",
    "    #if(100<i<110): print(r)\n",
    "    temp_words = r.split()\n",
    "    result_bag = set()\n",
    "    \n",
    "    for w in temp_words:\n",
    "        temp_word = w.lower()\n",
    "        \n",
    "        exclusion_matches = [True \n",
    "                             for rx in exclusion_patterns \n",
    "                             if regex.search(rx,temp_word)]\n",
    "        if not any(exclusion_matches) and temp_word!=\"\":\n",
    "            \n",
    "            for rx in selection_patterns:\n",
    "                match = regex.search(rx,temp_word)\n",
    "                \n",
    "            if(match): temp_word = match.groups()[0]\n",
    "                    \n",
    "            if temp_word not in word_dict: word_dict[temp_word] = 0\n",
    "            word_dict[temp_word] += 1\n",
    "            result_bag ^= {temp_word}\n",
    "            #if(100<i<110): print(temp_word)\n",
    "            \n",
    "    if(result_bag): result_bags += [result_bag]\n",
    "                \n",
    "    #if(100<i<110):print(\"\\n\")"
   ]
  },
  {
   "cell_type": "markdown",
   "metadata": {},
   "source": [
    "### Reducing\n",
    "\n",
    "Reducing in this context means removing any words that are substrings of other words, and removing the unique entry and adding the substring word's count to the superstring's entry."
   ]
  },
  {
   "cell_type": "code",
   "execution_count": null,
   "metadata": {
    "collapsed": false,
    "scrolled": true
   },
   "outputs": [],
   "source": [
    "# definitive ordering of word list\n",
    "word_order_dict = {}\n",
    "word_list = numpy.array(sorted(word_dict.keys()))\n",
    "for i,word in enumerate(word_list): word_order_dict[word] = i\n",
    "\n",
    "# creating word matrix\n",
    "word_matrix = numpy.zeros((len(word_dict),len(word_dict)),dtype=numpy.uint)\n",
    "\n",
    "# counting the number of times each word occurs with each other\n",
    "for n,rb in enumerate(result_bags):\n",
    "    #if(100<n<110): print(rb)\n",
    "    for word in rb:\n",
    "        i = word_order_dict[word]\n",
    "        for word2 in rb:\n",
    "            j = word_order_dict[word2]\n",
    "            if(i != j): word_matrix[i][j] += 1\n",
    "                \n",
    "#making co-occurance sparse\n",
    "#word_matrix = scipy.sparse.dok_matrix(word_matrix)"
   ]
  },
  {
   "cell_type": "markdown",
   "metadata": {},
   "source": [
    "Grouping those which almost always occur together"
   ]
  },
  {
   "cell_type": "code",
   "execution_count": null,
   "metadata": {
    "collapsed": false
   },
   "outputs": [],
   "source": [
    "#Selecting those words which have co-occurances above a threshold\n",
    "THRESHOLD = 10\n",
    "maxes_over_threshold = numpy.array(numpy.max(word_matrix,axis=1)>THRESHOLD).reshape(-1) #word_matrix.todense()\n",
    "\n",
    "COOCCURANCE_FREQ_THRESHOLD = 0.75\n",
    "for word in word_list[maxes_over_threshold]:\n",
    "    row = word_matrix[word_order_dict[word]] #.todense()\n",
    "        \n",
    "    maxes = numpy.array(row).reshape(-1) == row.max()\n",
    "    partner_words = word_list[maxes]\n",
    "    \n",
    "    if(word in word_dict):\n",
    "        maxes = numpy.array(row).reshape(-1) == row.max()\n",
    "        partner_words = word_list[maxes]\n",
    "        co_occurance_freq = row.max()/word_dict[word]\n",
    "        \n",
    "        if(co_occurance_freq > COOCCURANCE_FREQ_THRESHOLD): \n",
    "            #for w in [word]+partner_words.tolist(): print(w,word_dict[w])\n",
    "            print(\"Removing {} in lieu of {}\".format(word,partner_words))\n",
    "            del word_dict[word]"
   ]
  },
  {
   "cell_type": "markdown",
   "metadata": {},
   "source": [
    "### Selecting"
   ]
  },
  {
   "cell_type": "code",
   "execution_count": null,
   "metadata": {
    "collapsed": false
   },
   "outputs": [],
   "source": [
    "word_array = numpy.array([(word_order_dict[w],word_dict[w]) for w in word_dict])\n",
    "word_array = word_array[numpy.argsort(word_array[:,1])]"
   ]
  },
  {
   "cell_type": "code",
   "execution_count": null,
   "metadata": {
    "collapsed": false,
    "scrolled": true
   },
   "outputs": [],
   "source": [
    "WORD_FIELDS = 100\n",
    "word_fields = set()\n",
    "for w in word_array[-100:]:\n",
    "    word = word_list[w[0]]\n",
    "    word_fields |= {word}"
   ]
  },
  {
   "cell_type": "code",
   "execution_count": null,
   "metadata": {
    "collapsed": false
   },
   "outputs": [],
   "source": [
    "print(word_fields)"
   ]
  },
  {
   "cell_type": "code",
   "execution_count": null,
   "metadata": {
    "collapsed": false
   },
   "outputs": [],
   "source": [
    "print(headers)"
   ]
  },
  {
   "cell_type": "code",
   "execution_count": null,
   "metadata": {
    "collapsed": false
   },
   "outputs": [],
   "source": [
    "clients = set()\n",
    "languages = set()\n",
    "for result in results[1:]:\n",
    "    clients |= {result[-1]}\n",
    "    languages |= {result[-2]}\n",
    "    \n",
    "Languages = enum.Enum(\"Language\",list(languages))\n",
    "Clients = enum.Enum(\"Client\",list(clients))"
   ]
  },
  {
   "cell_type": "code",
   "execution_count": null,
   "metadata": {
    "collapsed": false
   },
   "outputs": [],
   "source": [
    "results_list = []\n",
    "for result in results[1:]:\n",
    "    \n",
    "    result_row = [\n",
    "        result[2], #Lat\n",
    "        result[3], #Long\n",
    "        result[4], #Time\n",
    "        result[5], #Favourites\n",
    "        result[6], #Retweets\n",
    "        Languages[result[7]],\n",
    "        Clients[result[8]]\n",
    "                 ]\n",
    "    \n",
    "    word_field_result = [word in result[1] for word in word_fields]\n",
    "    if any(word_field_result): \n",
    "        result_row += word_field_result\n",
    "        results_list += [result_row]\n",
    "        \n",
    "result_array = numpy.array(results_list)"
   ]
  },
  {
   "cell_type": "markdown",
   "metadata": {},
   "source": [
    "# Relevance Scoring"
   ]
  },
  {
   "cell_type": "markdown",
   "metadata": {},
   "source": [
    "Using Google News to give a relevance score for Tweet. Google do not seem to like this."
   ]
  },
  {
   "cell_type": "code",
   "execution_count": null,
   "metadata": {
    "collapsed": true
   },
   "outputs": [],
   "source": [
    "text_pattern = 'id=\"resultStats\">(.*)results'\n",
    "text_regex = re.compile(text_pattern)\n",
    "\n",
    "number_pattern = \"(\\d{1,4}(,\\d{3})*)(\\.\\d+)?\"\n",
    "number_regex = re.compile(number_pattern)"
   ]
  },
  {
   "cell_type": "code",
   "execution_count": null,
   "metadata": {
    "collapsed": false,
    "scrolled": false
   },
   "outputs": [],
   "source": [
    "for word in word_list[-100:]:\n",
    "    time.sleep(1)\n",
    "    \n",
    "    search_url = ['https://www.google.com/search?q=',word[0],\n",
    "                  '&safe=off&hl=en&gl=za&source=lnt',\n",
    "                  '&tbs=cdr%%3A1',\n",
    "                  '%%2Ccd_min%%3A2016%%2F10%%2F07'\n",
    "                  '%%2Ccd_max%%3A2016%%2F10%%2F07',\n",
    "                  '&tbm=nws']\n",
    "    result = requests.get(\"\".join(search_url))\n",
    "    \n",
    "    result_text = text_regex.search(result.text).groups()[0]\n",
    "    number_results = float(number_regex.search(result_text).groups()[0].replace(\",\",\"\"))\n",
    "    print(word,number)\n",
    "    "
   ]
  },
  {
   "cell_type": "markdown",
   "metadata": {
    "collapsed": true
   },
   "source": [
    "## Using SKLearn"
   ]
  },
  {
   "cell_type": "code",
   "execution_count": null,
   "metadata": {
    "collapsed": true
   },
   "outputs": [],
   "source": [
    "import sklearn.feature_extraction.text"
   ]
  },
  {
   "cell_type": "code",
   "execution_count": null,
   "metadata": {
    "collapsed": false
   },
   "outputs": [],
   "source": [
    "count_vect = sklearn.feature_extraction.text.CountVectorizer()"
   ]
  },
  {
   "cell_type": "code",
   "execution_count": null,
   "metadata": {
    "collapsed": false
   },
   "outputs": [],
   "source": [
    "bag_of_words = count_vect.transform(results)"
   ]
  },
  {
   "cell_type": "code",
   "execution_count": null,
   "metadata": {
    "collapsed": false
   },
   "outputs": [],
   "source": []
  },
  {
   "cell_type": "code",
   "execution_count": null,
   "metadata": {
    "collapsed": false
   },
   "outputs": [],
   "source": []
  },
  {
   "cell_type": "code",
   "execution_count": null,
   "metadata": {
    "collapsed": true
   },
   "outputs": [],
   "source": []
  }
 ],
 "metadata": {
  "kernelspec": {
   "display_name": "Python 3",
   "language": "python",
   "name": "python3"
  },
  "language_info": {
   "codemirror_mode": {
    "name": "ipython",
    "version": 3
   },
   "file_extension": ".py",
   "mimetype": "text/x-python",
   "name": "python",
   "nbconvert_exporter": "python",
   "pygments_lexer": "ipython3",
   "version": "3.4.2"
  }
 },
 "nbformat": 4,
 "nbformat_minor": 0
}
